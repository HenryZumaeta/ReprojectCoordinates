{
  "nbformat": 4,
  "nbformat_minor": 0,
  "metadata": {
    "colab": {
      "provenance": [],
      "authorship_tag": "ABX9TyOW1QEWP2gv5oMFV8mAsIQG",
      "include_colab_link": true
    },
    "kernelspec": {
      "name": "python3",
      "display_name": "Python 3"
    },
    "language_info": {
      "name": "python"
    }
  },
  "cells": [
    {
      "cell_type": "markdown",
      "metadata": {
        "id": "view-in-github",
        "colab_type": "text"
      },
      "source": [
        "<a href=\"https://colab.research.google.com/github/HenryZumaeta/ReprojectCoordinates/blob/main/ReprojectCoordinates.ipynb\" target=\"_parent\"><img src=\"https://colab.research.google.com/assets/colab-badge.svg\" alt=\"Open In Colab\"/></a>"
      ]
    },
    {
      "cell_type": "markdown",
      "source": [
        "## **<font color='F1C40F'> Reproject Coodinates - Shared by [Henry Zumaeta](https://github.com/HenryZumaeta) </font>**\n"
      ],
      "metadata": {
        "id": "4MaZzQHwz70r"
      }
    },
    {
      "cell_type": "code",
      "source": [
        "# Subir archivo CSV\n",
        "from google.colab import files\n",
        "import pandas as pd\n",
        "import geopandas as gpd\n",
        "from pyproj import CRS, Transformer\n",
        "\n",
        "# Permitir la subida de archivos\n",
        "uploaded = files.upload()\n",
        "\n",
        "# Leer el archivo CSV subido\n",
        "for filename in uploaded.keys():\n",
        "    df = pd.read_csv(filename)\n",
        "    print(f\"Archivo {filename} subido y cargado en un DataFrame\")\n",
        "    print(df.head())\n"
      ],
      "metadata": {
        "id": "9tQ6UEW3wy7d"
      },
      "execution_count": null,
      "outputs": []
    },
    {
      "cell_type": "code",
      "source": [
        "# @markdown <br><center><img src='https://raw.githubusercontent.com/HenryZumaeta/DataProgrammingRepo/main/db/UMT%20a%20Geogr%C3%A1ficas.png' height=\"50\" alt=\"UTM2Geo-logo\"/></center>\n",
        "# @markdown <center><h2>UTM a Geográficas</h2></center><br>\n",
        "\n",
        "# @markdown <h3>Datos de entrada: Ingresar las propiedades</h3></center><br>\n",
        "\n",
        "# Definir rutas de origen y destino\n",
        "INPUT_ZONA = \"32T\"  #@param {type:\"string\"}\n",
        "OUTPUT_DATUM = \"WGS84\"  #@param {type:\"string\"}\n",
        "OUTPUT_FILENAME = \"coordenadas_convertidas.csv\"  #@param {type:\"string\"}\n",
        "\n",
        "print(f\"Zona UTM: {INPUT_ZONA}\")\n",
        "print(f\"Datum de salida: {OUTPUT_DATUM}\")\n",
        "print(f\"Nombre del archivo de salida: {OUTPUT_FILENAME}\")\n",
        "\n",
        "# Función para convertir UTM a Geográficas\n",
        "def convertir_utm_a_geografica(df, zona, datum):\n",
        "    # Definir CRS (Coordinate Reference System)\n",
        "    crs_utm = CRS(f\"+proj=utm +zone={zona[:-1]} +datum=WGS84 +units=m +no_defs\")\n",
        "    crs_geo = CRS(f\"EPSG:4326\")  # WGS84\n",
        "\n",
        "    # Crear un transformador\n",
        "    transformer = Transformer.from_crs(crs_utm, crs_geo)\n",
        "\n",
        "    # Convertir coordenadas\n",
        "    df['Latitud'], df['Longitud'] = transformer.transform(df['NORTE'].values, df['ESTE'].values)\n",
        "\n",
        "    return df\n",
        "\n",
        "# Convertir coordenadas del DataFrame\n",
        "df_convertido = convertir_utm_a_geografica(df, INPUT_ZONA, OUTPUT_DATUM)\n",
        "print(\"Coordenadas convertidas\")\n",
        "\n",
        "# Guardar el DataFrame convertido en un archivo CSV\n",
        "df_convertido.to_csv(OUTPUT_FILENAME, index=False)\n",
        "print(f\"Archivo guardado como {OUTPUT_FILENAME}\")\n",
        "\n",
        "# Permitir la descarga del archivo\n",
        "files.download(OUTPUT_FILENAME)\n"
      ],
      "metadata": {
        "cellView": "form",
        "id": "16X_Et8oxx4A"
      },
      "execution_count": null,
      "outputs": []
    }
  ]
}